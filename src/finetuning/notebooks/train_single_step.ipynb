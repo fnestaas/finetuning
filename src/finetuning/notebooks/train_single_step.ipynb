{
 "cells": [
  {
   "cell_type": "markdown",
   "metadata": {},
   "source": [
    "# Single-Answer Tuning\n",
    "In this notebook we use the Oasst dataset to fine tune GPT2 first using SFT and then DPO.\n",
    "\n",
    "Note that we use little data and few steps because I ran the code locally for debugging."
   ]
  },
  {
   "cell_type": "code",
   "execution_count": null,
   "metadata": {},
   "outputs": [],
   "source": [
    "%load_ext autoreload\n",
    "%autoreload 2"
   ]
  },
  {
   "cell_type": "code",
   "execution_count": null,
   "metadata": {},
   "outputs": [],
   "source": [
    "from finetuning.data.utils import (\n",
    "    get_single_step_conversations,\n",
    "    create_preference_df,\n",
    "    create_qa_df\n",
    ")\n",
    "from transformers import AutoTokenizer, AutoModelForCausalLM\n",
    "from trl import SFTTrainer, SFTConfig, DPOConfig, DPOTrainer\n",
    "import os \n",
    "from datasets import Dataset\n",
    "from peft import LoraConfig\n",
    "from pathlib import Path\n",
    "\n",
    "logging_dir = Path('../../../logging')\n"
   ]
  },
  {
   "cell_type": "code",
   "execution_count": null,
   "metadata": {},
   "outputs": [],
   "source": [
    "model_str = 'openai-community/gpt2'\n",
    "tokenizer = AutoTokenizer.from_pretrained(\"openai-community/gpt2\")\n",
    "tokenizer.pad_token_id = 50256\n",
    "model = AutoModelForCausalLM.from_pretrained(\"openai-community/gpt2\")"
   ]
  },
  {
   "cell_type": "markdown",
   "metadata": {},
   "source": [
    "### Get conversations"
   ]
  },
  {
   "cell_type": "code",
   "execution_count": null,
   "metadata": {},
   "outputs": [],
   "source": [
    "convos = get_single_step_conversations()\n",
    "convo_ids = convos.shuffle()[:2]['message_tree_id']\n",
    "convos_small = convos.filter(\n",
    "    lambda row: row['message_tree_id'] in convo_ids \n",
    "        and (row['rank'] is None or row['rank'] < .5)\n",
    ")"
   ]
  },
  {
   "cell_type": "code",
   "execution_count": null,
   "metadata": {},
   "outputs": [],
   "source": [
    "df_train = create_qa_df(convos_small)\n",
    "ds_train = Dataset.from_pandas(df_train)"
   ]
  },
  {
   "cell_type": "markdown",
   "metadata": {},
   "source": [
    "### SFT + LoRA"
   ]
  },
  {
   "cell_type": "code",
   "execution_count": null,
   "metadata": {},
   "outputs": [],
   "source": [
    "def prompt_formatter(row: dict) -> str:\n",
    "    return f\"\"\"\n",
    "### User:\n",
    "{row['prompt'].replace('#', '/#')}\n",
    "\n",
    "### Assistant:\n",
    "{row['answer']}\n",
    "\n",
    "\"\"\"\n",
    "\n",
    "sft_cfg = SFTConfig(\n",
    "    max_seq_length=512,\n",
    "    output_dir=logging_dir / 'sft',\n",
    "    logging_steps=1,\n",
    "    packing=True,\n",
    "    weight_decay=0.01,\n",
    "    report_to='none',\n",
    "    max_steps=2,\n",
    "    dataloader_num_workers=os.cpu_count()-1,\n",
    "    gradient_accumulation_steps=2,\n",
    "    learning_rate=1e-4,\n",
    "    lr_scheduler_type='constant',\n",
    ")\n",
    "\n",
    "lora_cfg = LoraConfig(\n",
    "    r=16,\n",
    "    lora_alpha=32,\n",
    "    lora_dropout=0.05,\n",
    "    target_modules=\"all-linear\",\n",
    "    modules_to_save=[\"lm_head\", \"embed_token\"],\n",
    "    task_type=\"CAUSAL_LM\",\n",
    ")\n",
    "\n",
    "trainer = SFTTrainer(\n",
    "    model_str,\n",
    "    train_dataset=ds_train,\n",
    "    args=sft_cfg,\n",
    "    formatting_func=prompt_formatter,\n",
    "    peft_config=lora_cfg,\n",
    ")\n",
    "trainer.train()"
   ]
  },
  {
   "cell_type": "markdown",
   "metadata": {},
   "source": [
    "### DPO\n",
    "Here we also create a preference dataset."
   ]
  },
  {
   "cell_type": "code",
   "execution_count": null,
   "metadata": {},
   "outputs": [],
   "source": [
    "convo_ids = list(set(convos.shuffle()[:2]['message_tree_id']))\n",
    "convos_small = convos.filter(\n",
    "    lambda row: row['message_tree_id'] in convo_ids \n",
    "        # and (row['rank'] is None or row['rank'] < .5)\n",
    ")\n",
    "pref_df = create_preference_df(convos_small)\n",
    "ds_train = Dataset.from_pandas(pref_df)"
   ]
  },
  {
   "cell_type": "code",
   "execution_count": null,
   "metadata": {},
   "outputs": [],
   "source": [
    "dpo_cfg = DPOConfig(\n",
    "    output_dir=logging_dir / 'dpo', \n",
    "    logging_steps=1,\n",
    "    weight_decay=0.01,\n",
    "    report_to='none',\n",
    "    max_steps=2,\n",
    "    dataloader_num_workers=os.cpu_count()-1,\n",
    "    gradient_accumulation_steps=2,\n",
    "    learning_rate=1e-4,\n",
    "    lr_scheduler_type='constant',\n",
    ")\n",
    "trainer = DPOTrainer(model=model, processing_class=tokenizer, args=dpo_cfg, train_dataset=ds_train)\n",
    "trainer.train()"
   ]
  },
  {
   "cell_type": "code",
   "execution_count": null,
   "metadata": {},
   "outputs": [],
   "source": []
  }
 ],
 "metadata": {
  "kernelspec": {
   "display_name": ".venv",
   "language": "python",
   "name": "python3"
  },
  "language_info": {
   "codemirror_mode": {
    "name": "ipython",
    "version": 3
   },
   "file_extension": ".py",
   "mimetype": "text/x-python",
   "name": "python",
   "nbconvert_exporter": "python",
   "pygments_lexer": "ipython3",
   "version": "3.10.13"
  }
 },
 "nbformat": 4,
 "nbformat_minor": 2
}
